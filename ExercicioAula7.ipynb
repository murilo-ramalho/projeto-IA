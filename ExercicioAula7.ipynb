{
 "cells": [
  {
   "cell_type": "code",
   "execution_count": 1,
   "id": "787f9823",
   "metadata": {},
   "outputs": [],
   "source": [
    "#importando o pandas\n",
    "import pandas as pd\n",
    "\n",
    "#carregando o dataframe\n",
    "carros = pd.read_csv(\"carros1985.csv\", sep=',',na_values=\"?\")"
   ]
  },
  {
   "cell_type": "code",
   "execution_count": 2,
   "id": "f0cbbb4a",
   "metadata": {},
   "outputs": [
    {
     "data": {
      "text/html": [
       "<div>\n",
       "<style scoped>\n",
       "    .dataframe tbody tr th:only-of-type {\n",
       "        vertical-align: middle;\n",
       "    }\n",
       "\n",
       "    .dataframe tbody tr th {\n",
       "        vertical-align: top;\n",
       "    }\n",
       "\n",
       "    .dataframe thead th {\n",
       "        text-align: right;\n",
       "    }\n",
       "</style>\n",
       "<table border=\"1\" class=\"dataframe\">\n",
       "  <thead>\n",
       "    <tr style=\"text-align: right;\">\n",
       "      <th></th>\n",
       "      <th>symboling</th>\n",
       "      <th>normalized-losses</th>\n",
       "      <th>fuel-type</th>\n",
       "      <th>aspiration</th>\n",
       "      <th>num-of-doors</th>\n",
       "      <th>body-style</th>\n",
       "      <th>drive-wheels</th>\n",
       "      <th>engine-location</th>\n",
       "      <th>wheel-base</th>\n",
       "      <th>length</th>\n",
       "      <th>...</th>\n",
       "      <th>engine-size</th>\n",
       "      <th>fuel-system</th>\n",
       "      <th>bore</th>\n",
       "      <th>stroke</th>\n",
       "      <th>compression-ratio</th>\n",
       "      <th>horsepower</th>\n",
       "      <th>peak-rpm</th>\n",
       "      <th>city-mpg</th>\n",
       "      <th>highway-mpg</th>\n",
       "      <th>price</th>\n",
       "    </tr>\n",
       "  </thead>\n",
       "  <tbody>\n",
       "    <tr>\n",
       "      <th>0</th>\n",
       "      <td>3</td>\n",
       "      <td>NaN</td>\n",
       "      <td>gas</td>\n",
       "      <td>std</td>\n",
       "      <td>two</td>\n",
       "      <td>convertible</td>\n",
       "      <td>rwd</td>\n",
       "      <td>front</td>\n",
       "      <td>88.6</td>\n",
       "      <td>168.8</td>\n",
       "      <td>...</td>\n",
       "      <td>130</td>\n",
       "      <td>mpfi</td>\n",
       "      <td>3.47</td>\n",
       "      <td>2.68</td>\n",
       "      <td>9.0</td>\n",
       "      <td>111.0</td>\n",
       "      <td>5000.0</td>\n",
       "      <td>21</td>\n",
       "      <td>27</td>\n",
       "      <td>13495.0</td>\n",
       "    </tr>\n",
       "    <tr>\n",
       "      <th>1</th>\n",
       "      <td>3</td>\n",
       "      <td>NaN</td>\n",
       "      <td>gas</td>\n",
       "      <td>std</td>\n",
       "      <td>two</td>\n",
       "      <td>convertible</td>\n",
       "      <td>rwd</td>\n",
       "      <td>front</td>\n",
       "      <td>88.6</td>\n",
       "      <td>168.8</td>\n",
       "      <td>...</td>\n",
       "      <td>130</td>\n",
       "      <td>mpfi</td>\n",
       "      <td>3.47</td>\n",
       "      <td>2.68</td>\n",
       "      <td>9.0</td>\n",
       "      <td>111.0</td>\n",
       "      <td>5000.0</td>\n",
       "      <td>21</td>\n",
       "      <td>27</td>\n",
       "      <td>16500.0</td>\n",
       "    </tr>\n",
       "    <tr>\n",
       "      <th>2</th>\n",
       "      <td>1</td>\n",
       "      <td>NaN</td>\n",
       "      <td>gas</td>\n",
       "      <td>std</td>\n",
       "      <td>two</td>\n",
       "      <td>hatchback</td>\n",
       "      <td>rwd</td>\n",
       "      <td>front</td>\n",
       "      <td>94.5</td>\n",
       "      <td>171.2</td>\n",
       "      <td>...</td>\n",
       "      <td>152</td>\n",
       "      <td>mpfi</td>\n",
       "      <td>2.68</td>\n",
       "      <td>3.47</td>\n",
       "      <td>9.0</td>\n",
       "      <td>154.0</td>\n",
       "      <td>5000.0</td>\n",
       "      <td>19</td>\n",
       "      <td>26</td>\n",
       "      <td>16500.0</td>\n",
       "    </tr>\n",
       "    <tr>\n",
       "      <th>3</th>\n",
       "      <td>2</td>\n",
       "      <td>164.0</td>\n",
       "      <td>gas</td>\n",
       "      <td>std</td>\n",
       "      <td>four</td>\n",
       "      <td>sedan</td>\n",
       "      <td>fwd</td>\n",
       "      <td>front</td>\n",
       "      <td>99.8</td>\n",
       "      <td>176.6</td>\n",
       "      <td>...</td>\n",
       "      <td>109</td>\n",
       "      <td>mpfi</td>\n",
       "      <td>3.19</td>\n",
       "      <td>3.40</td>\n",
       "      <td>10.0</td>\n",
       "      <td>102.0</td>\n",
       "      <td>5500.0</td>\n",
       "      <td>24</td>\n",
       "      <td>30</td>\n",
       "      <td>13950.0</td>\n",
       "    </tr>\n",
       "    <tr>\n",
       "      <th>4</th>\n",
       "      <td>2</td>\n",
       "      <td>164.0</td>\n",
       "      <td>gas</td>\n",
       "      <td>std</td>\n",
       "      <td>four</td>\n",
       "      <td>sedan</td>\n",
       "      <td>4wd</td>\n",
       "      <td>front</td>\n",
       "      <td>99.4</td>\n",
       "      <td>176.6</td>\n",
       "      <td>...</td>\n",
       "      <td>136</td>\n",
       "      <td>mpfi</td>\n",
       "      <td>3.19</td>\n",
       "      <td>3.40</td>\n",
       "      <td>8.0</td>\n",
       "      <td>115.0</td>\n",
       "      <td>5500.0</td>\n",
       "      <td>18</td>\n",
       "      <td>22</td>\n",
       "      <td>17450.0</td>\n",
       "    </tr>\n",
       "  </tbody>\n",
       "</table>\n",
       "<p>5 rows × 25 columns</p>\n",
       "</div>"
      ],
      "text/plain": [
       "   symboling  normalized-losses fuel-type aspiration num-of-doors  \\\n",
       "0          3                NaN       gas        std          two   \n",
       "1          3                NaN       gas        std          two   \n",
       "2          1                NaN       gas        std          two   \n",
       "3          2              164.0       gas        std         four   \n",
       "4          2              164.0       gas        std         four   \n",
       "\n",
       "    body-style drive-wheels engine-location  wheel-base  length  ...  \\\n",
       "0  convertible          rwd           front        88.6   168.8  ...   \n",
       "1  convertible          rwd           front        88.6   168.8  ...   \n",
       "2    hatchback          rwd           front        94.5   171.2  ...   \n",
       "3        sedan          fwd           front        99.8   176.6  ...   \n",
       "4        sedan          4wd           front        99.4   176.6  ...   \n",
       "\n",
       "   engine-size  fuel-system  bore stroke compression-ratio  horsepower  \\\n",
       "0          130         mpfi  3.47   2.68               9.0       111.0   \n",
       "1          130         mpfi  3.47   2.68               9.0       111.0   \n",
       "2          152         mpfi  2.68   3.47               9.0       154.0   \n",
       "3          109         mpfi  3.19   3.40              10.0       102.0   \n",
       "4          136         mpfi  3.19   3.40               8.0       115.0   \n",
       "\n",
       "  peak-rpm  city-mpg  highway-mpg    price  \n",
       "0   5000.0        21           27  13495.0  \n",
       "1   5000.0        21           27  16500.0  \n",
       "2   5000.0        19           26  16500.0  \n",
       "3   5500.0        24           30  13950.0  \n",
       "4   5500.0        18           22  17450.0  \n",
       "\n",
       "[5 rows x 25 columns]"
      ]
     },
     "execution_count": 2,
     "metadata": {},
     "output_type": "execute_result"
    }
   ],
   "source": [
    "carros.head()"
   ]
  },
  {
   "cell_type": "code",
   "execution_count": 3,
   "id": "cdff55f7",
   "metadata": {},
   "outputs": [
    {
     "name": "stdout",
     "output_type": "stream",
     "text": [
      "<class 'pandas.core.frame.DataFrame'>\n",
      "RangeIndex: 205 entries, 0 to 204\n",
      "Data columns (total 25 columns):\n",
      " #   Column             Non-Null Count  Dtype  \n",
      "---  ------             --------------  -----  \n",
      " 0   symboling          205 non-null    int64  \n",
      " 1   normalized-losses  164 non-null    float64\n",
      " 2   fuel-type          205 non-null    object \n",
      " 3   aspiration         205 non-null    object \n",
      " 4   num-of-doors       203 non-null    object \n",
      " 5   body-style         205 non-null    object \n",
      " 6   drive-wheels       205 non-null    object \n",
      " 7   engine-location    205 non-null    object \n",
      " 8   wheel-base         205 non-null    float64\n",
      " 9   length             205 non-null    float64\n",
      " 10  width              205 non-null    float64\n",
      " 11  height             205 non-null    float64\n",
      " 12  curb-weight        205 non-null    int64  \n",
      " 13  engine-type        205 non-null    object \n",
      " 14  num-of-cylinders   205 non-null    object \n",
      " 15  engine-size        205 non-null    int64  \n",
      " 16  fuel-system        205 non-null    object \n",
      " 17  bore               201 non-null    float64\n",
      " 18  stroke             201 non-null    float64\n",
      " 19  compression-ratio  205 non-null    float64\n",
      " 20  horsepower         203 non-null    float64\n",
      " 21  peak-rpm           203 non-null    float64\n",
      " 22  city-mpg           205 non-null    int64  \n",
      " 23  highway-mpg        205 non-null    int64  \n",
      " 24  price              201 non-null    float64\n",
      "dtypes: float64(11), int64(5), object(9)\n",
      "memory usage: 40.2+ KB\n"
     ]
    }
   ],
   "source": [
    "carros.info()"
   ]
  },
  {
   "cell_type": "markdown",
   "id": "c6ab74eb",
   "metadata": {},
   "source": [
    "Agora vou trabalhar os valores vazios. \n",
    "\n",
    "Aqui depende do objetivo do projeto de machine qual será a nossa ação. Como este é apenas um exercício para treinar a preparação de dados, vou optar por remover todas as linhas que possuem um valor vazio. No caso de dados numericos poderiamos colocar valores médios ou outra estratégia. No caso de valores categóricos normalmente opta-se por remove-los pois não temos como \"adivinhar\" qual seria a categoria correta.\n",
    "\n",
    "Vou executar essa tarefa logo no começo do projeto para evitar problemas como criando colunas que são sempre false no processo de one-hot-encoding"
   ]
  },
  {
   "cell_type": "code",
   "execution_count": 4,
   "id": "a7ca2f65",
   "metadata": {},
   "outputs": [],
   "source": [
    "carros = carros.dropna()"
   ]
  },
  {
   "cell_type": "code",
   "execution_count": 5,
   "id": "84e6fcd5",
   "metadata": {
    "scrolled": true
   },
   "outputs": [
    {
     "name": "stdout",
     "output_type": "stream",
     "text": [
      "<class 'pandas.core.frame.DataFrame'>\n",
      "Index: 159 entries, 3 to 204\n",
      "Data columns (total 25 columns):\n",
      " #   Column             Non-Null Count  Dtype  \n",
      "---  ------             --------------  -----  \n",
      " 0   symboling          159 non-null    int64  \n",
      " 1   normalized-losses  159 non-null    float64\n",
      " 2   fuel-type          159 non-null    object \n",
      " 3   aspiration         159 non-null    object \n",
      " 4   num-of-doors       159 non-null    object \n",
      " 5   body-style         159 non-null    object \n",
      " 6   drive-wheels       159 non-null    object \n",
      " 7   engine-location    159 non-null    object \n",
      " 8   wheel-base         159 non-null    float64\n",
      " 9   length             159 non-null    float64\n",
      " 10  width              159 non-null    float64\n",
      " 11  height             159 non-null    float64\n",
      " 12  curb-weight        159 non-null    int64  \n",
      " 13  engine-type        159 non-null    object \n",
      " 14  num-of-cylinders   159 non-null    object \n",
      " 15  engine-size        159 non-null    int64  \n",
      " 16  fuel-system        159 non-null    object \n",
      " 17  bore               159 non-null    float64\n",
      " 18  stroke             159 non-null    float64\n",
      " 19  compression-ratio  159 non-null    float64\n",
      " 20  horsepower         159 non-null    float64\n",
      " 21  peak-rpm           159 non-null    float64\n",
      " 22  city-mpg           159 non-null    int64  \n",
      " 23  highway-mpg        159 non-null    int64  \n",
      " 24  price              159 non-null    float64\n",
      "dtypes: float64(11), int64(5), object(9)\n",
      "memory usage: 32.3+ KB\n"
     ]
    }
   ],
   "source": [
    "#Analizando o dataframe novamente, para ver se todos os atributos possuem as mesmas quantidades de linhas\n",
    "carros.info()"
   ]
  },
  {
   "cell_type": "markdown",
   "id": "4af67a95",
   "metadata": {},
   "source": [
    "Analisando os dados categoricos ordinais\n",
    "Temos `num-of-doors` e `num-of-cylinders`"
   ]
  },
  {
   "cell_type": "code",
   "execution_count": 6,
   "id": "7e4c1e10",
   "metadata": {},
   "outputs": [
    {
     "data": {
      "text/plain": [
       "num-of-doors\n",
       "four    95\n",
       "two     64\n",
       "Name: count, dtype: int64"
      ]
     },
     "execution_count": 6,
     "metadata": {},
     "output_type": "execute_result"
    }
   ],
   "source": [
    "#Tem que ser um de cada vez, tentei varios value_counts() na mesma célula mas só mostrou o último\n",
    "carros['num-of-doors'].value_counts()"
   ]
  },
  {
   "cell_type": "code",
   "execution_count": 7,
   "id": "5fabd30d",
   "metadata": {},
   "outputs": [
    {
     "data": {
      "text/plain": [
       "num-of-cylinders\n",
       "four     136\n",
       "six       14\n",
       "five       7\n",
       "three      1\n",
       "eight      1\n",
       "Name: count, dtype: int64"
      ]
     },
     "execution_count": 7,
     "metadata": {},
     "output_type": "execute_result"
    }
   ],
   "source": [
    "carros['num-of-cylinders'].value_counts()"
   ]
  },
  {
   "cell_type": "code",
   "execution_count": 8,
   "id": "a212e49b",
   "metadata": {},
   "outputs": [],
   "source": [
    "#Criando mappers\n",
    "num_of_cylinders_mapper = {\"two\": 2, \"three\":3, \"four\": 4, \"five\": 5, \"six\": 6, \"eight\": 8, \"twelve\": 12}\n",
    "num_of_doors_mapper = {\"two\": 2, \"four\": 4}"
   ]
  },
  {
   "cell_type": "code",
   "execution_count": 9,
   "id": "9ae111a3",
   "metadata": {},
   "outputs": [],
   "source": [
    "#Utilizando o metodo replace para os mappers\n",
    "carros['num-of-cylinders'] = carros[\"num-of-cylinders\"].replace(num_of_cylinders_mapper)\n",
    "carros['num-of-doors'] = carros[\"num-of-doors\"].replace(num_of_doors_mapper)"
   ]
  },
  {
   "cell_type": "code",
   "execution_count": 10,
   "id": "69b34e81",
   "metadata": {},
   "outputs": [
    {
     "name": "stdout",
     "output_type": "stream",
     "text": [
      "<class 'pandas.core.frame.DataFrame'>\n",
      "Index: 159 entries, 3 to 204\n",
      "Data columns (total 25 columns):\n",
      " #   Column             Non-Null Count  Dtype  \n",
      "---  ------             --------------  -----  \n",
      " 0   symboling          159 non-null    int64  \n",
      " 1   normalized-losses  159 non-null    float64\n",
      " 2   fuel-type          159 non-null    object \n",
      " 3   aspiration         159 non-null    object \n",
      " 4   num-of-doors       159 non-null    int64  \n",
      " 5   body-style         159 non-null    object \n",
      " 6   drive-wheels       159 non-null    object \n",
      " 7   engine-location    159 non-null    object \n",
      " 8   wheel-base         159 non-null    float64\n",
      " 9   length             159 non-null    float64\n",
      " 10  width              159 non-null    float64\n",
      " 11  height             159 non-null    float64\n",
      " 12  curb-weight        159 non-null    int64  \n",
      " 13  engine-type        159 non-null    object \n",
      " 14  num-of-cylinders   159 non-null    int64  \n",
      " 15  engine-size        159 non-null    int64  \n",
      " 16  fuel-system        159 non-null    object \n",
      " 17  bore               159 non-null    float64\n",
      " 18  stroke             159 non-null    float64\n",
      " 19  compression-ratio  159 non-null    float64\n",
      " 20  horsepower         159 non-null    float64\n",
      " 21  peak-rpm           159 non-null    float64\n",
      " 22  city-mpg           159 non-null    int64  \n",
      " 23  highway-mpg        159 non-null    int64  \n",
      " 24  price              159 non-null    float64\n",
      "dtypes: float64(11), int64(7), object(7)\n",
      "memory usage: 32.3+ KB\n"
     ]
    }
   ],
   "source": [
    "#Analizando o dataframe novamente, para ver se as colunas num-of-doors e \n",
    "#num-of-cylinders deixaram de ser object\n",
    "carros.info()"
   ]
  },
  {
   "cell_type": "markdown",
   "id": "6527958c",
   "metadata": {},
   "source": [
    "Analisando os dados categoricos não-ordinais. \n",
    "Temos `fuel-type`, `aspiration`, `body-style`, `drive-wheels`, `engine-location`, `engine-type` e `fuel-system`"
   ]
  },
  {
   "cell_type": "code",
   "execution_count": 11,
   "id": "a8334f70",
   "metadata": {},
   "outputs": [
    {
     "data": {
      "text/plain": [
       "fuel-type\n",
       "gas       144\n",
       "diesel     15\n",
       "Name: count, dtype: int64"
      ]
     },
     "execution_count": 11,
     "metadata": {},
     "output_type": "execute_result"
    }
   ],
   "source": [
    "carros['fuel-type'].value_counts()"
   ]
  },
  {
   "cell_type": "code",
   "execution_count": 12,
   "id": "f8a4c24e",
   "metadata": {},
   "outputs": [
    {
     "data": {
      "text/plain": [
       "aspiration\n",
       "std      132\n",
       "turbo     27\n",
       "Name: count, dtype: int64"
      ]
     },
     "execution_count": 12,
     "metadata": {},
     "output_type": "execute_result"
    }
   ],
   "source": [
    "carros['aspiration'].value_counts()"
   ]
  },
  {
   "cell_type": "code",
   "execution_count": 13,
   "id": "f118f4c0",
   "metadata": {},
   "outputs": [
    {
     "data": {
      "text/plain": [
       "body-style\n",
       "sedan          79\n",
       "hatchback      56\n",
       "wagon          17\n",
       "hardtop         5\n",
       "convertible     2\n",
       "Name: count, dtype: int64"
      ]
     },
     "execution_count": 13,
     "metadata": {},
     "output_type": "execute_result"
    }
   ],
   "source": [
    "carros['body-style'].value_counts()"
   ]
  },
  {
   "cell_type": "code",
   "execution_count": 14,
   "id": "17d1ca06",
   "metadata": {},
   "outputs": [
    {
     "data": {
      "text/plain": [
       "drive-wheels\n",
       "fwd    105\n",
       "rwd     46\n",
       "4wd      8\n",
       "Name: count, dtype: int64"
      ]
     },
     "execution_count": 14,
     "metadata": {},
     "output_type": "execute_result"
    }
   ],
   "source": [
    "carros['drive-wheels'].value_counts()"
   ]
  },
  {
   "cell_type": "code",
   "execution_count": 15,
   "id": "39603f59",
   "metadata": {},
   "outputs": [
    {
     "data": {
      "text/plain": [
       "engine-location\n",
       "front    159\n",
       "Name: count, dtype: int64"
      ]
     },
     "execution_count": 15,
     "metadata": {},
     "output_type": "execute_result"
    }
   ],
   "source": [
    "carros['engine-location'].value_counts()"
   ]
  },
  {
   "cell_type": "code",
   "execution_count": 16,
   "id": "e03b9fb4",
   "metadata": {},
   "outputs": [
    {
     "data": {
      "text/plain": [
       "engine-type\n",
       "ohc     123\n",
       "ohcf     12\n",
       "l         8\n",
       "dohc      8\n",
       "ohcv      8\n",
       "Name: count, dtype: int64"
      ]
     },
     "execution_count": 16,
     "metadata": {},
     "output_type": "execute_result"
    }
   ],
   "source": [
    "carros['engine-type'].value_counts()"
   ]
  },
  {
   "cell_type": "code",
   "execution_count": 17,
   "id": "f69bb334",
   "metadata": {},
   "outputs": [
    {
     "data": {
      "text/plain": [
       "fuel-system\n",
       "mpfi    64\n",
       "2bbl    63\n",
       "idi     15\n",
       "1bbl    11\n",
       "spdi     5\n",
       "mfi      1\n",
       "Name: count, dtype: int64"
      ]
     },
     "execution_count": 17,
     "metadata": {},
     "output_type": "execute_result"
    }
   ],
   "source": [
    "carros['fuel-system'].value_counts()"
   ]
  },
  {
   "cell_type": "code",
   "execution_count": 18,
   "id": "566cae71",
   "metadata": {},
   "outputs": [],
   "source": [
    "#Fazendo o one-hot-encoding para o os campos analizados anteriormente\n",
    "carros= pd.get_dummies(carros, columns=['fuel-type'])\n",
    "carros= pd.get_dummies(carros, columns=['aspiration'])\n",
    "carros= pd.get_dummies(carros, columns=['body-style'])\n",
    "carros= pd.get_dummies(carros, columns=['drive-wheels'])\n",
    "carros= pd.get_dummies(carros, columns=['engine-location'])\n",
    "carros= pd.get_dummies(carros, columns=['engine-type'])\n",
    "carros= pd.get_dummies(carros, columns=['fuel-system'])"
   ]
  },
  {
   "cell_type": "code",
   "execution_count": 19,
   "id": "fbdf797c",
   "metadata": {},
   "outputs": [
    {
     "name": "stdout",
     "output_type": "stream",
     "text": [
      "<class 'pandas.core.frame.DataFrame'>\n",
      "Index: 159 entries, 3 to 204\n",
      "Data columns (total 42 columns):\n",
      " #   Column                  Non-Null Count  Dtype  \n",
      "---  ------                  --------------  -----  \n",
      " 0   symboling               159 non-null    int64  \n",
      " 1   normalized-losses       159 non-null    float64\n",
      " 2   num-of-doors            159 non-null    int64  \n",
      " 3   wheel-base              159 non-null    float64\n",
      " 4   length                  159 non-null    float64\n",
      " 5   width                   159 non-null    float64\n",
      " 6   height                  159 non-null    float64\n",
      " 7   curb-weight             159 non-null    int64  \n",
      " 8   num-of-cylinders        159 non-null    int64  \n",
      " 9   engine-size             159 non-null    int64  \n",
      " 10  bore                    159 non-null    float64\n",
      " 11  stroke                  159 non-null    float64\n",
      " 12  compression-ratio       159 non-null    float64\n",
      " 13  horsepower              159 non-null    float64\n",
      " 14  peak-rpm                159 non-null    float64\n",
      " 15  city-mpg                159 non-null    int64  \n",
      " 16  highway-mpg             159 non-null    int64  \n",
      " 17  price                   159 non-null    float64\n",
      " 18  fuel-type_diesel        159 non-null    bool   \n",
      " 19  fuel-type_gas           159 non-null    bool   \n",
      " 20  aspiration_std          159 non-null    bool   \n",
      " 21  aspiration_turbo        159 non-null    bool   \n",
      " 22  body-style_convertible  159 non-null    bool   \n",
      " 23  body-style_hardtop      159 non-null    bool   \n",
      " 24  body-style_hatchback    159 non-null    bool   \n",
      " 25  body-style_sedan        159 non-null    bool   \n",
      " 26  body-style_wagon        159 non-null    bool   \n",
      " 27  drive-wheels_4wd        159 non-null    bool   \n",
      " 28  drive-wheels_fwd        159 non-null    bool   \n",
      " 29  drive-wheels_rwd        159 non-null    bool   \n",
      " 30  engine-location_front   159 non-null    bool   \n",
      " 31  engine-type_dohc        159 non-null    bool   \n",
      " 32  engine-type_l           159 non-null    bool   \n",
      " 33  engine-type_ohc         159 non-null    bool   \n",
      " 34  engine-type_ohcf        159 non-null    bool   \n",
      " 35  engine-type_ohcv        159 non-null    bool   \n",
      " 36  fuel-system_1bbl        159 non-null    bool   \n",
      " 37  fuel-system_2bbl        159 non-null    bool   \n",
      " 38  fuel-system_idi         159 non-null    bool   \n",
      " 39  fuel-system_mfi         159 non-null    bool   \n",
      " 40  fuel-system_mpfi        159 non-null    bool   \n",
      " 41  fuel-system_spdi        159 non-null    bool   \n",
      "dtypes: bool(24), float64(11), int64(7)\n",
      "memory usage: 27.3 KB\n"
     ]
    }
   ],
   "source": [
    "#Analizando o dataframe novamente, para ver se ficou algum dado do tipo object (valores categoricos)\n",
    "carros.info()"
   ]
  }
 ],
 "metadata": {
  "kernelspec": {
   "display_name": "Python 3 (ipykernel)",
   "language": "python",
   "name": "python3"
  },
  "language_info": {
   "codemirror_mode": {
    "name": "ipython",
    "version": 3
   },
   "file_extension": ".py",
   "mimetype": "text/x-python",
   "name": "python",
   "nbconvert_exporter": "python",
   "pygments_lexer": "ipython3",
   "version": "3.11.5"
  }
 },
 "nbformat": 4,
 "nbformat_minor": 5
}
