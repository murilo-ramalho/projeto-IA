{
 "cells": [
  {
   "cell_type": "markdown",
   "id": "f3ac869a-cc39-4a85-8736-30bd474fb212",
   "metadata": {},
   "source": [
    "## aula 8"
   ]
  },
  {
   "cell_type": "code",
   "execution_count": 2,
   "id": "c81c7f9e-2766-4215-b98f-d43c1a01bc57",
   "metadata": {},
   "outputs": [],
   "source": [
    "import pandas as pd\n",
    "\n",
    "colunas = ['Classe','Alcohol','Malic acid','Ash','Alcalinity of ash','magnesium','Total phenols','Flavanoids','NonFlavanoid phenols','Proanthocyanins','Color intensity','Hue','OD280/OD315','Proline'];\n",
    "\n",
    "vinhos = pd.read_csv(\"wine.data\", sep=',',names=colunas)"
   ]
  },
  {
   "cell_type": "code",
   "execution_count": 3,
   "id": "9affc64c-d156-426c-892a-efae4b218082",
   "metadata": {},
   "outputs": [
    {
     "data": {
      "text/plain": [
       "<bound method DataFrame.info of      Classe  Alcohol  Malic acid   Ash  Alcalinity of ash  magnesium  \\\n",
       "0         1    14.23        1.71  2.43               15.6        127   \n",
       "1         1    13.20        1.78  2.14               11.2        100   \n",
       "2         1    13.16        2.36  2.67               18.6        101   \n",
       "3         1    14.37        1.95  2.50               16.8        113   \n",
       "4         1    13.24        2.59  2.87               21.0        118   \n",
       "..      ...      ...         ...   ...                ...        ...   \n",
       "173       3    13.71        5.65  2.45               20.5         95   \n",
       "174       3    13.40        3.91  2.48               23.0        102   \n",
       "175       3    13.27        4.28  2.26               20.0        120   \n",
       "176       3    13.17        2.59  2.37               20.0        120   \n",
       "177       3    14.13        4.10  2.74               24.5         96   \n",
       "\n",
       "     Total phenols  Flavanoids  NonFlavanoid phenols  Proanthocyanins  \\\n",
       "0             2.80        3.06                  0.28             2.29   \n",
       "1             2.65        2.76                  0.26             1.28   \n",
       "2             2.80        3.24                  0.30             2.81   \n",
       "3             3.85        3.49                  0.24             2.18   \n",
       "4             2.80        2.69                  0.39             1.82   \n",
       "..             ...         ...                   ...              ...   \n",
       "173           1.68        0.61                  0.52             1.06   \n",
       "174           1.80        0.75                  0.43             1.41   \n",
       "175           1.59        0.69                  0.43             1.35   \n",
       "176           1.65        0.68                  0.53             1.46   \n",
       "177           2.05        0.76                  0.56             1.35   \n",
       "\n",
       "     Color intensity   Hue  OD280/OD315  Proline  \n",
       "0               5.64  1.04         3.92     1065  \n",
       "1               4.38  1.05         3.40     1050  \n",
       "2               5.68  1.03         3.17     1185  \n",
       "3               7.80  0.86         3.45     1480  \n",
       "4               4.32  1.04         2.93      735  \n",
       "..               ...   ...          ...      ...  \n",
       "173             7.70  0.64         1.74      740  \n",
       "174             7.30  0.70         1.56      750  \n",
       "175            10.20  0.59         1.56      835  \n",
       "176             9.30  0.60         1.62      840  \n",
       "177             9.20  0.61         1.60      560  \n",
       "\n",
       "[178 rows x 14 columns]>"
      ]
     },
     "execution_count": 3,
     "metadata": {},
     "output_type": "execute_result"
    }
   ],
   "source": [
    "vinhos.info"
   ]
  },
  {
   "cell_type": "code",
   "execution_count": 9,
   "id": "a0f7ca00-3708-452a-83f8-7a1f53b3a3bc",
   "metadata": {},
   "outputs": [
    {
     "ename": "NameError",
     "evalue": "name 'colunms' is not defined",
     "output_type": "error",
     "traceback": [
      "\u001b[1;31m---------------------------------------------------------------------------\u001b[0m",
      "\u001b[1;31mNameError\u001b[0m                                 Traceback (most recent call last)",
      "Cell \u001b[1;32mIn[9], line 1\u001b[0m\n\u001b[1;32m----> 1\u001b[0m vinhos\u001b[38;5;241m.\u001b[39mdrop(\u001b[43mcolunms\u001b[49m,\u001b[38;5;124m'\u001b[39m\u001b[38;5;124mClasse\u001b[39m\u001b[38;5;124m'\u001b[39m)\n",
      "\u001b[1;31mNameError\u001b[0m: name 'colunms' is not defined"
     ]
    }
   ],
   "source": [
    "vinhos.drop(colunms,'Classe')"
   ]
  },
  {
   "cell_type": "code",
   "execution_count": null,
   "id": "2116fa97-1ee4-49be-85bd-e6dca374be05",
   "metadata": {},
   "outputs": [],
   "source": []
  }
 ],
 "metadata": {
  "kernelspec": {
   "display_name": "Python 3 (ipykernel)",
   "language": "python",
   "name": "python3"
  },
  "language_info": {
   "codemirror_mode": {
    "name": "ipython",
    "version": 3
   },
   "file_extension": ".py",
   "mimetype": "text/x-python",
   "name": "python",
   "nbconvert_exporter": "python",
   "pygments_lexer": "ipython3",
   "version": "3.12.2"
  }
 },
 "nbformat": 4,
 "nbformat_minor": 5
}
