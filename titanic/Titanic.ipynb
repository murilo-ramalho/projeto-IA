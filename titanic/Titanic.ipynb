{
 "cells": [
  {
   "cell_type": "markdown",
   "metadata": {},
   "source": [
    "## **Projeto de machine learning – Classificação de sobrevivência dos passageiros do Titanic**\n",
    "\n",
    "### Introdução\n",
    "\n",
    "O naufrágio do Titanic é um dos naufrágios mais infames da história. \n",
    "\n",
    "Em 15 de abril de 1912, durante sua viagem inaugural, o RMS Titanic, amplamente considerado “inafundável”, afundou após colidir com um iceberg. Infelizmente, não havia botes salva-vidas suficientes para todos a bordo, resultando na morte de 1.502 dos 2.224 passageiros e tripulantes. \n",
    "\n",
    "Embora houvesse algum elemento de sorte envolvido na sobrevivência, parece que alguns grupos de pessoas tinham maior probabilidade de sobreviver do que outros. \n",
    "\n",
    " \n",
    "\n",
    "### O desafio\n",
    "\n",
    "O desafio consiste em construir um modelo de dados com a melhor precisão possível, que consiga classificar se um passageiro irá ou não sobreviver ao naufrágio, utilizando os dados fornecidos. \n",
    "\n",
    "O modelo irá apenas responder se o passageiro irá ou não sobreviver, logo trata-se de um problema de classificação binaria. \n",
    "\n",
    "Este desafio é baseado no desafio online proposto pelo kaggle (https://www.kaggle.com/c/titanic/overview/evaluation) \n",
    "\n",
    "\n",
    "### Utilizando a base da dados titanic.csv\n",
    "\n",
    "O arquivo titanic.csv contém dados de 887 passageiros reais do Titanic. Cada linha representa uma pessoa. As colunas descrevem diferentes atributos sobre a pessoa, incluindo se ela sobreviveu (Survided), sua classe de passageiros (PClass), seu nome (Name), seu sexo (Sex), sua idade (Age), se haviam irmãos ou esposa/esposo a bordo (Siblings/Spouses Aboard), se haviam pais ou filhos abordo (Parents/Children Aboard) e a tarifa que pagaram para embarcar (Fare).\n",
    "\n",
    "\n",
    "### Entrega do trabalho\n",
    "\n",
    "Cada integrante do grupo deverá entregar na tarefa do Teams um arquivo de notebook (.ipynb) contendo todo o código desenvolvido (células de código) e explicações de cada passo dado no projeto (células markdown). Caso algum integrante esqueça de entregar sua cópia do trabalho ele poderá ficar sem nota. Importante: todos os integrantes do grupo devem entregar o mesmo trabalho. \n",
    "\n",
    "\n",
    "### Desenvolvimento\n",
    "\n",
    "Ao menos dois algoritmos diferentes de classificação devem ser testados na tarefa sendo que o modelo deverá ser construído usando o melhor algoritmo. Não se esqueçam da etapa de aperfeiçoamento do modelo após escolher um algoritmo. \n",
    "\n",
    "\n",
    "### Grupo\n",
    "\n",
    "O trabalho será desenvolvido em grupos de 2 até 4 alunos. O nome dos integrantes deve constar numa célula de markdown no início do trabalho. Respeitem os tamanhos dos grupos.\n",
    "\n",
    "\n",
    "\n",
    "### FAQ \n",
    "\n",
    "- **Trabalhos iguais em grupos diferentes :** Zero para ambos os grupos. Cuidado com o que vocês compartilham entre si. \n",
    "\n",
    "- **Usei uma IA para fazer os códigos pra mim, por isso ficou igual ao do outro grupo:** Zero para ambos os grupos. Usem as IA (GPT e afins) com responsabilidade. Não sai copiando e colando qualquer coisa que eles respondem... Usem a cabeça... \n",
    "\n",
    "- **Segui um tutorial do YouTube, por isso ficou igual ao do outro grupo:** Zero\n",
    "\n",
    "- **Trabalho encontrado na internet igual ao do grupo:** Zero \n",
    "\n",
    "---"
   ]
  },
  {
   "cell_type": "markdown",
   "metadata": {},
   "source": [
    "### grupo\n",
    "- Murilo Ramalho da Mata\n"
   ]
  },
  {
   "cell_type": "code",
   "execution_count": null,
   "metadata": {},
   "outputs": [],
   "source": []
  }
 ],
 "metadata": {
  "kernelspec": {
   "display_name": "Python 3",
   "language": "python",
   "name": "python3"
  },
  "language_info": {
   "name": "python",
   "version": "3.12.3"
  }
 },
 "nbformat": 4,
 "nbformat_minor": 2
}
